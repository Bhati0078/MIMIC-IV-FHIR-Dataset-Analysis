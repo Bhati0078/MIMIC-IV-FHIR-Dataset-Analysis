{
 "cells": [
  {
   "cell_type": "markdown",
   "id": "c18dfacb",
   "metadata": {},
   "source": [
    "# Importing libraries"
   ]
  },
  {
   "cell_type": "code",
   "execution_count": 24,
   "id": "f551bc63",
   "metadata": {},
   "outputs": [],
   "source": [
    "import pandas as pd\n",
    "import json\n",
    "import csv\n",
    "from datetime import datetime"
   ]
  },
  {
   "cell_type": "markdown",
   "id": "8eb69771",
   "metadata": {},
   "source": [
    "# Step 1: Read and understand the JSON format of each file\n"
   ]
  },
  {
   "cell_type": "code",
   "execution_count": 25,
   "id": "a1e605a5",
   "metadata": {},
   "outputs": [],
   "source": [
    "# Step 1: Read and understand the JSON format of each file\n",
    "file_paths = (r\"D:\\Downloads\\mimic-iv-clinical-database-demo-on-fhir-2.0\\mimic-iv-clinical-database-demo-on-fhir-2.0\\mimic-fhir\\Patient.ndjson\",\n",
    "              r\"D:\\Downloads\\mimic-iv-clinical-database-demo-on-fhir-2.0\\mimic-iv-clinical-database-demo-on-fhir-2.0\\mimic-fhir\\Condition.ndjson\",\n",
    "              r\"D:\\Downloads\\mimic-iv-clinical-database-demo-on-fhir-2.0\\mimic-iv-clinical-database-demo-on-fhir-2.0\\mimic-fhir\\Encounter.ndjson\",\n",
    "              r\"D:\\Downloads\\mimic-iv-clinical-database-demo-on-fhir-2.0\\mimic-iv-clinical-database-demo-on-fhir-2.0\\mimic-fhir\\EncounterICU.ndjson\"\n",
    "            )"
   ]
  },
  {
   "cell_type": "markdown",
   "id": "eed9eca7",
   "metadata": {},
   "source": [
    "\n",
    "# Step 2: Parse the Patient JSON file"
   ]
  },
  {
   "cell_type": "code",
   "execution_count": 26,
   "id": "d63ce0fd",
   "metadata": {},
   "outputs": [],
   "source": [
    "def read_ndjson(file_path):\n",
    "    data = []\n",
    "    with open(file_path, 'r') as file:\n",
    "        for line in file:\n",
    "            data.append(json.loads(line))\n",
    "    return data"
   ]
  },
  {
   "cell_type": "code",
   "execution_count": 27,
   "id": "d66bfce1",
   "metadata": {},
   "outputs": [],
   "source": [
    "patients = {}\n",
    "patient_data = read_ndjson(file_paths[0])\n",
    "for patient in patient_data:\n",
    "    patients[patient['id']] = []"
   ]
  },
  {
   "cell_type": "markdown",
   "id": "f02d53bb",
   "metadata": {},
   "source": [
    "# Step 3: Gather conditions for each patient, gather their conditions"
   ]
  },
  {
   "cell_type": "code",
   "execution_count": 28,
   "id": "1ebc6db5",
   "metadata": {},
   "outputs": [],
   "source": [
    "condition_data = read_ndjson(file_paths[1])\n",
    "for condition in condition_data:\n",
    "    patient_id = condition['subject']['reference'].split('/')[-1]\n",
    "    patients[patient_id].append(condition)\n",
    "\n",
    "encounters = {}\n",
    "encounter_data = read_ndjson(file_paths[2])\n",
    "encounter_icu_data = read_ndjson(file_paths[3])\n",
    "\n",
    "for encounter in encounter_data + encounter_icu_data:\n",
    "    encounters[encounter['id']] = encounter"
   ]
  },
  {
   "cell_type": "markdown",
   "id": "e0f12982",
   "metadata": {},
   "source": [
    "# Step 4: Create a CSV file"
   ]
  },
  {
   "cell_type": "code",
   "execution_count": 29,
   "id": "a499a60b",
   "metadata": {},
   "outputs": [],
   "source": [
    "with open('patient_conditions.csv', 'w', newline='') as csvfile:\n",
    "    fieldnames = ['pid', 'time', 'code', 'description']\n",
    "    writer = csv.DictWriter(csvfile, fieldnames=fieldnames)\n",
    "    writer.writeheader()\n",
    "    for patient_id, conditions in patients.items():\n",
    "        for condition in conditions:\n",
    "            encounter_id = condition.get('encounter', {}).get('reference', '').split('/')[-1]\n",
    "            encounter = encounters.get(encounter_id)\n",
    "            if encounter:\n",
    "                start_time = encounter.get('period', {}).get('start', '')\n",
    "                if start_time:\n",
    "                    timestamp = datetime.strptime(start_time, '%Y-%m-%dT%H:%M:%S%z').timestamp()\n",
    "                    description = condition.get('code', {}).get('coding', [{}])[0].get('display', '')\n",
    "                    writer.writerow({\n",
    "                        'pid': patient_id,\n",
    "                        'time': int(timestamp),\n",
    "                        'code': condition['code']['coding'][0]['code'],\n",
    "                        'description': description\n",
    "                    })\n"
   ]
  },
  {
   "cell_type": "code",
   "execution_count": 30,
   "id": "3de15b94",
   "metadata": {},
   "outputs": [
    {
     "data": {
      "text/html": [
       "<div>\n",
       "<style scoped>\n",
       "    .dataframe tbody tr th:only-of-type {\n",
       "        vertical-align: middle;\n",
       "    }\n",
       "\n",
       "    .dataframe tbody tr th {\n",
       "        vertical-align: top;\n",
       "    }\n",
       "\n",
       "    .dataframe thead th {\n",
       "        text-align: right;\n",
       "    }\n",
       "</style>\n",
       "<table border=\"1\" class=\"dataframe\">\n",
       "  <thead>\n",
       "    <tr style=\"text-align: right;\">\n",
       "      <th></th>\n",
       "      <th>pid</th>\n",
       "      <th>time</th>\n",
       "      <th>code</th>\n",
       "      <th>description</th>\n",
       "    </tr>\n",
       "  </thead>\n",
       "  <tbody>\n",
       "    <tr>\n",
       "      <th>0</th>\n",
       "      <td>0a8eebfd-a352-522e-89f0-1d4a13abdebc</td>\n",
       "      <td>6644651700</td>\n",
       "      <td>V462</td>\n",
       "      <td>Other dependence on machines, supplemental oxygen</td>\n",
       "    </tr>\n",
       "    <tr>\n",
       "      <th>1</th>\n",
       "      <td>0a8eebfd-a352-522e-89f0-1d4a13abdebc</td>\n",
       "      <td>6642340020</td>\n",
       "      <td>78959</td>\n",
       "      <td>Other ascites</td>\n",
       "    </tr>\n",
       "    <tr>\n",
       "      <th>2</th>\n",
       "      <td>0a8eebfd-a352-522e-89f0-1d4a13abdebc</td>\n",
       "      <td>6642340020</td>\n",
       "      <td>07071</td>\n",
       "      <td>Unspecified viral hepatitis C with hepatic coma</td>\n",
       "    </tr>\n",
       "    <tr>\n",
       "      <th>3</th>\n",
       "      <td>0a8eebfd-a352-522e-89f0-1d4a13abdebc</td>\n",
       "      <td>6642340020</td>\n",
       "      <td>5715</td>\n",
       "      <td>Cirrhosis of liver without mention of alcohol</td>\n",
       "    </tr>\n",
       "    <tr>\n",
       "      <th>4</th>\n",
       "      <td>0a8eebfd-a352-522e-89f0-1d4a13abdebc</td>\n",
       "      <td>6644651700</td>\n",
       "      <td>29680</td>\n",
       "      <td>Bipolar disorder, unspecified</td>\n",
       "    </tr>\n",
       "    <tr>\n",
       "      <th>...</th>\n",
       "      <td>...</td>\n",
       "      <td>...</td>\n",
       "      <td>...</td>\n",
       "      <td>...</td>\n",
       "    </tr>\n",
       "    <tr>\n",
       "      <th>4176</th>\n",
       "      <td>fa5fbf9c-23e3-5ef3-9cfb-24d20a950314</td>\n",
       "      <td>6563036820</td>\n",
       "      <td>2724</td>\n",
       "      <td>Other and unspecified hyperlipidemia</td>\n",
       "    </tr>\n",
       "    <tr>\n",
       "      <th>4177</th>\n",
       "      <td>fa5fbf9c-23e3-5ef3-9cfb-24d20a950314</td>\n",
       "      <td>6587319900</td>\n",
       "      <td>2761</td>\n",
       "      <td>Hyposmolality and/or hyponatremia</td>\n",
       "    </tr>\n",
       "    <tr>\n",
       "      <th>4178</th>\n",
       "      <td>fa5fbf9c-23e3-5ef3-9cfb-24d20a950314</td>\n",
       "      <td>6700350540</td>\n",
       "      <td>F419</td>\n",
       "      <td>Anxiety disorder, unspecified</td>\n",
       "    </tr>\n",
       "    <tr>\n",
       "      <th>4179</th>\n",
       "      <td>fa5fbf9c-23e3-5ef3-9cfb-24d20a950314</td>\n",
       "      <td>6613157160</td>\n",
       "      <td>2809</td>\n",
       "      <td>Iron deficiency anemia, unspecified</td>\n",
       "    </tr>\n",
       "    <tr>\n",
       "      <th>4180</th>\n",
       "      <td>fa5fbf9c-23e3-5ef3-9cfb-24d20a950314</td>\n",
       "      <td>6613157160</td>\n",
       "      <td>59969</td>\n",
       "      <td>Urinary obstruction, not elsewhere classified</td>\n",
       "    </tr>\n",
       "  </tbody>\n",
       "</table>\n",
       "<p>4181 rows × 4 columns</p>\n",
       "</div>"
      ],
      "text/plain": [
       "                                       pid        time   code  \\\n",
       "0     0a8eebfd-a352-522e-89f0-1d4a13abdebc  6644651700   V462   \n",
       "1     0a8eebfd-a352-522e-89f0-1d4a13abdebc  6642340020  78959   \n",
       "2     0a8eebfd-a352-522e-89f0-1d4a13abdebc  6642340020  07071   \n",
       "3     0a8eebfd-a352-522e-89f0-1d4a13abdebc  6642340020   5715   \n",
       "4     0a8eebfd-a352-522e-89f0-1d4a13abdebc  6644651700  29680   \n",
       "...                                    ...         ...    ...   \n",
       "4176  fa5fbf9c-23e3-5ef3-9cfb-24d20a950314  6563036820   2724   \n",
       "4177  fa5fbf9c-23e3-5ef3-9cfb-24d20a950314  6587319900   2761   \n",
       "4178  fa5fbf9c-23e3-5ef3-9cfb-24d20a950314  6700350540   F419   \n",
       "4179  fa5fbf9c-23e3-5ef3-9cfb-24d20a950314  6613157160   2809   \n",
       "4180  fa5fbf9c-23e3-5ef3-9cfb-24d20a950314  6613157160  59969   \n",
       "\n",
       "                                            description  \n",
       "0     Other dependence on machines, supplemental oxygen  \n",
       "1                                         Other ascites  \n",
       "2       Unspecified viral hepatitis C with hepatic coma  \n",
       "3         Cirrhosis of liver without mention of alcohol  \n",
       "4                         Bipolar disorder, unspecified  \n",
       "...                                                 ...  \n",
       "4176               Other and unspecified hyperlipidemia  \n",
       "4177                  Hyposmolality and/or hyponatremia  \n",
       "4178                      Anxiety disorder, unspecified  \n",
       "4179                Iron deficiency anemia, unspecified  \n",
       "4180      Urinary obstruction, not elsewhere classified  \n",
       "\n",
       "[4181 rows x 4 columns]"
      ]
     },
     "execution_count": 30,
     "metadata": {},
     "output_type": "execute_result"
    }
   ],
   "source": [
    "Final_Output = pd.read_csv(\"patient_conditions.csv\")\n",
    "Final_Output"
   ]
  },
  {
   "cell_type": "code",
   "execution_count": 31,
   "id": "5eb3b9bd",
   "metadata": {},
   "outputs": [
    {
     "name": "stdout",
     "output_type": "stream",
     "text": [
      "<class 'pandas.core.frame.DataFrame'>\n",
      "RangeIndex: 4181 entries, 0 to 4180\n",
      "Data columns (total 4 columns):\n",
      " #   Column       Non-Null Count  Dtype \n",
      "---  ------       --------------  ----- \n",
      " 0   pid          4181 non-null   object\n",
      " 1   time         4181 non-null   int64 \n",
      " 2   code         4181 non-null   object\n",
      " 3   description  4181 non-null   object\n",
      "dtypes: int64(1), object(3)\n",
      "memory usage: 130.8+ KB\n"
     ]
    }
   ],
   "source": [
    "Final_Output.info()"
   ]
  },
  {
   "cell_type": "code",
   "execution_count": null,
   "id": "58fe453b",
   "metadata": {},
   "outputs": [],
   "source": []
  },
  {
   "cell_type": "code",
   "execution_count": null,
   "id": "1b7f1d4b",
   "metadata": {},
   "outputs": [],
   "source": []
  },
  {
   "cell_type": "code",
   "execution_count": null,
   "id": "b3bfa77a",
   "metadata": {},
   "outputs": [],
   "source": []
  },
  {
   "cell_type": "code",
   "execution_count": null,
   "id": "70b34c38",
   "metadata": {},
   "outputs": [],
   "source": []
  },
  {
   "cell_type": "code",
   "execution_count": null,
   "id": "ab5bd27f",
   "metadata": {},
   "outputs": [],
   "source": []
  },
  {
   "cell_type": "code",
   "execution_count": null,
   "id": "9fa2b891",
   "metadata": {},
   "outputs": [],
   "source": []
  },
  {
   "cell_type": "code",
   "execution_count": null,
   "id": "2e147b43",
   "metadata": {},
   "outputs": [],
   "source": []
  }
 ],
 "metadata": {
  "kernelspec": {
   "display_name": "Python 3 (ipykernel)",
   "language": "python",
   "name": "python3"
  },
  "language_info": {
   "codemirror_mode": {
    "name": "ipython",
    "version": 3
   },
   "file_extension": ".py",
   "mimetype": "text/x-python",
   "name": "python",
   "nbconvert_exporter": "python",
   "pygments_lexer": "ipython3",
   "version": "3.11.3"
  }
 },
 "nbformat": 4,
 "nbformat_minor": 5
}
